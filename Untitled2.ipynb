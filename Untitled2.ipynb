{
  "nbformat": 4,
  "nbformat_minor": 0,
  "metadata": {
    "colab": {
      "provenance": [],
      "authorship_tag": "ABX9TyPAq1zAjAwdvti8aQQjvxcY",
      "include_colab_link": true
    },
    "kernelspec": {
      "name": "python3",
      "display_name": "Python 3"
    },
    "language_info": {
      "name": "python"
    }
  },
  "cells": [
    {
      "cell_type": "markdown",
      "metadata": {
        "id": "view-in-github",
        "colab_type": "text"
      },
      "source": [
        "<a href=\"https://colab.research.google.com/github/Edvloper/PastaTeste/blob/main/Untitled2.ipynb\" target=\"_parent\"><img src=\"https://colab.research.google.com/assets/colab-badge.svg\" alt=\"Open In Colab\"/></a>"
      ]
    },
    {
      "cell_type": "code",
      "execution_count": 37,
      "metadata": {
        "colab": {
          "base_uri": "https://localhost:8080/"
        },
        "id": "rxlzdLAUAIv7",
        "outputId": "ebb37e1a-8848-4237-f5a8-862073b99bb8"
      },
      "outputs": [
        {
          "output_type": "stream",
          "name": "stdout",
          "text": [
            "Digite seu Login: EDGAR\n",
            "Digite sua senha: 123\n",
            "ACESSO LIBERADO\n",
            " \n",
            "Selecione Opção\n",
            "1 - Cadastro Direto\n",
            "2- Cadastro Professor\n",
            "3- Cadastro Aluno\n",
            "4 - Calculadora\n",
            " \n",
            "Selecione Opção: 1\n",
            "Digite seu Login: bibisafadinha69\n",
            "Digite sua Senha: raputenga\n",
            "Digite seu ID: 12345\n",
            "ACESSO NEGADO\n"
          ]
        }
      ],
      "source": [
        "Login = input(\"Digite seu Login: \")\n",
        "senha = input(\"Digite sua senha: \")\n",
        "if Login == \"EDGAR\" and senha == \"123\":\n",
        "    print(\"ACESSO LIBERADO\")\n",
        "    print(\" \")\n",
        "    print(\"Selecione Opção\")\n",
        "    print(\"1 - Cadastro Direto\")\n",
        "    print(\"2- Cadastro Professor\")\n",
        "    print(\"3- Cadastro Aluno\")\n",
        "    print(\"4 - Calculadora\")\n",
        "    print(\" \")\n",
        "\n",
        "    Escolha = input(\"Selecione Opção: \")\n",
        "\n",
        "    if Escolha == \"1\":\n",
        "        Login2 = input(\"Digite seu Login: \")\n",
        "        senha2 = input(\"Digite sua Senha: \")\n",
        "        IDD = input(\"Digite seu ID: \")\n",
        "\n",
        "        if Login2 == \"ALUNO\" and senha2 == \"123\" and IDD == \"12345\":\n",
        "          print(\"ACESSO LIBERADO\")\n",
        "        else:\n",
        "          print(\"ACESSO NEGADO\")\n",
        "\n",
        "    elif Escolha == \"2\":\n",
        "        LoginProf = input(\"Digite seu Login: \")\n",
        "        SenhaProf = input(\"Digite sua Senha: \")\n",
        "        IDP = input(\"Digite seu ID: \")\n",
        "\n",
        "        if LoginProf == \"PROFESSOR\" and SenhaProf == \"123\" and IDP == \"12345\":\n",
        "          print(\"ACESSO LIBERADO\")\n",
        "        else:\n",
        "          print(\"ACESSO NEGADO\")\n",
        "\n",
        "    elif Escolha == \"3\":\n",
        "        LoginAluno = input(\"Login Aluno: \")\n",
        "        SenhaAluno = input(\"Senha: \")\n",
        "        IDA = input(\"Digite seu ID: \")\n",
        "\n",
        "        if LoginAluno == \"ALUNO\" and SenhaAluno == \"123\" and IDA == \"12345\":\n",
        "          print(\"ACESSO LIBERADO\")\n",
        "\n",
        "        else:\n",
        "          print(\"ACESSO NEGADO\")\n",
        "\n",
        "else:\n",
        "    print(\"LOGIN OU SENHA INCORRETOS, TENTE NOVAMENTE...\")\n"
      ]
    }
  ]
}