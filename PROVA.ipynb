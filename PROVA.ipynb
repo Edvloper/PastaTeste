{
  "nbformat": 4,
  "nbformat_minor": 0,
  "metadata": {
    "colab": {
      "provenance": [],
      "authorship_tag": "ABX9TyO41jrliW59yLjDNHjiSBis",
      "include_colab_link": true
    },
    "kernelspec": {
      "name": "python3",
      "display_name": "Python 3"
    },
    "language_info": {
      "name": "python"
    }
  },
  "cells": [
    {
      "cell_type": "markdown",
      "metadata": {
        "id": "view-in-github",
        "colab_type": "text"
      },
      "source": [
        "<a href=\"https://colab.research.google.com/github/Edvloper/PastaTeste/blob/main/PROVA.ipynb\" target=\"_parent\"><img src=\"https://colab.research.google.com/assets/colab-badge.svg\" alt=\"Open In Colab\"/></a>"
      ]
    },
    {
      "cell_type": "code",
      "execution_count": null,
      "metadata": {
        "colab": {
          "base_uri": "https://localhost:8080/"
        },
        "id": "DFPC2ENuMuif",
        "outputId": "c567f880-0de6-468d-ae52-1e065163672b"
      },
      "outputs": [
        {
          "output_type": "stream",
          "name": "stdout",
          "text": [
            "{'nome': 'João', 'idade': 30, 'cidade': 'Teresina'}\n"
          ]
        }
      ],
      "source": [
        "pessoa = {\"nome\":\"João\",\"idade\":30, \"cidade\":\"Teresina\"}\n",
        "print(pessoa)"
      ]
    },
    {
      "cell_type": "code",
      "source": [
        "capitais = {\"Brasil\":\"Brasília\", \"Alemanha\" :\"berlim\", \"japão\": \"Tóquio\"}\n",
        "capital_brasil = capitais[\"Brasil\"]\n",
        "print(capital_brasil)\n"
      ],
      "metadata": {
        "colab": {
          "base_uri": "https://localhost:8080/"
        },
        "id": "CupxltsIPdzJ",
        "outputId": "0f94b591-4570-4825-b318-ef676d45ebb0"
      },
      "execution_count": null,
      "outputs": [
        {
          "output_type": "stream",
          "name": "stdout",
          "text": [
            "Brasília\n"
          ]
        }
      ]
    },
    {
      "cell_type": "code",
      "source": [
        "pessoa = {\"nome\":\"João\",\"idade\":29, \"filhos\":[\"Paulo,\" \"Maria\"]}\n",
        "print(pessoa)"
      ],
      "metadata": {
        "colab": {
          "base_uri": "https://localhost:8080/"
        },
        "id": "-_Zce7esN1ik",
        "outputId": "e33e8070-2df7-45f9-f4ed-a9402142aadd"
      },
      "execution_count": null,
      "outputs": [
        {
          "output_type": "stream",
          "name": "stdout",
          "text": [
            "{'nome': 'João', 'idade': 29, 'filhos': ['Paulo,Maria']}\n"
          ]
        }
      ]
    },
    {
      "cell_type": "code",
      "source": [
        "telefones: {\"ana\": 12345, \"yudi\": 5678765, \"edgar\": 9876545,}\n",
        "telefone_andre = telefones[\"andre\"]\n",
        "print(telefone_andre)\n",
        "\n"
      ],
      "metadata": {
        "colab": {
          "base_uri": "https://localhost:8080/",
          "height": 106
        },
        "id": "86l3ghfkOYyi",
        "outputId": "086f8642-7e2d-4098-a115-ffeb17b3e675"
      },
      "execution_count": null,
      "outputs": [
        {
          "output_type": "error",
          "ename": "SyntaxError",
          "evalue": "leading zeros in decimal integer literals are not permitted; use an 0o prefix for octal integers (<ipython-input-2-3d14fe693b2a>, line 1)",
          "traceback": [
            "\u001b[0;36m  File \u001b[0;32m\"<ipython-input-2-3d14fe693b2a>\"\u001b[0;36m, line \u001b[0;32m1\u001b[0m\n\u001b[0;31m    telefones: {\"ana\": 12345, \"yudi\": 5678765, \"edgar\": 9876545, \"andre\": 0987678}\u001b[0m\n\u001b[0m                                                                          ^\u001b[0m\n\u001b[0;31mSyntaxError\u001b[0m\u001b[0;31m:\u001b[0m leading zeros in decimal integer literals are not permitted; use an 0o prefix for octal integers\n"
          ]
        }
      ]
    },
    {
      "cell_type": "code",
      "source": [
        "contatos = {\"ana\": 12345, \"yudi\": 2343456, \"julia\": 234543}\n",
        "nome = \"ana\"\n",
        "if nome in contatos:\n",
        "  telefone = contatos[nome]\n",
        "  print(f\"o número de telefone de {nome} é {telefone}.\")\n",
        "else:\n",
        "  print(f\"o contato\")"
      ],
      "metadata": {
        "id": "v61Tvr4JPyg6"
      },
      "execution_count": null,
      "outputs": []
    },
    {
      "cell_type": "code",
      "source": [
        "dicionario = {'a': 1, 'b':2, 'c': 3}\n",
        "valor_a = dicionario.get ('a', 'chave não encontrada')\n",
        "valor_d = dicionario.get ('d', 'chave não encontrada')\n",
        "\n",
        "print(f\"valor de 'a'): {valor_a}\" )\n",
        "print(f\"valor de 'd'): {valor_d}\" )\n"
      ],
      "metadata": {
        "colab": {
          "base_uri": "https://localhost:8080/"
        },
        "id": "jpobFmWSRKeE",
        "outputId": "1a764a63-0c24-4bf4-98e0-8b60249353bb"
      },
      "execution_count": null,
      "outputs": [
        {
          "output_type": "stream",
          "name": "stdout",
          "text": [
            "valor de 'a'): 1\n",
            "valor de 'd'): chave não encontrada\n"
          ]
        }
      ]
    }
  ]
}