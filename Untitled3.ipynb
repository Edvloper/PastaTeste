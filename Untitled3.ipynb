{
  "nbformat": 4,
  "nbformat_minor": 0,
  "metadata": {
    "colab": {
      "provenance": [],
      "authorship_tag": "ABX9TyPO4BT/wpLeICrbamcT/T8a",
      "include_colab_link": true
    },
    "kernelspec": {
      "name": "python3",
      "display_name": "Python 3"
    },
    "language_info": {
      "name": "python"
    }
  },
  "cells": [
    {
      "cell_type": "markdown",
      "metadata": {
        "id": "view-in-github",
        "colab_type": "text"
      },
      "source": [
        "<a href=\"https://colab.research.google.com/github/Edvloper/PastaTeste/blob/main/Untitled3.ipynb\" target=\"_parent\"><img src=\"https://colab.research.google.com/assets/colab-badge.svg\" alt=\"Open In Colab\"/></a>"
      ]
    },
    {
      "cell_type": "code",
      "execution_count": null,
      "metadata": {
        "colab": {
          "base_uri": "https://localhost:8080/"
        },
        "id": "RGaLutblYjg_",
        "outputId": "9b1d50bd-0183-4fa8-d63e-b4c56bd99ad1"
      },
      "outputs": [
        {
          "output_type": "stream",
          "name": "stdout",
          "text": [
            "INSTITUIÇÃO EDUCACIONAL ONLINE\n",
            " \n",
            "Login: EDGAR\n",
            "Senha: 123\n",
            "ACESSO LIBERADO\n",
            " \n",
            "Selecione Opção\n",
            "1 - Cadastro Direto\n",
            "2- Cadastro Professor\n",
            "3- Cadastro Aluno\n",
            "4 - Calculadora\n",
            " \n",
            "Opção Desejada: 4\n",
            " \n",
            "Selecione a Operação desejada\n",
            "A - ADIÇÃO \n",
            "S - SUBTRAÇÃO \n",
            "M - MULTIPLICAÇÃO\n",
            "D - DIVISÃO \n"
          ]
        }
      ],
      "source": [
        "print(\"INSTITUIÇÃO EDUCACIONAL ONLINE\")\n",
        "print(\" \")\n",
        "Login = input(\"Login: \")\n",
        "senha = input(\"Senha: \")\n",
        "if Login == \"EDGAR\" and senha == \"123\":\n",
        "    print(\"ACESSO LIBERADO\")\n",
        "    print(\" \")\n",
        "    print(\"Selecione Opção\")\n",
        "    print(\"1 - Cadastro Direto\")\n",
        "    print(\"2- Cadastro Professor\")\n",
        "    print(\"3- Cadastro Aluno\")\n",
        "    print(\"4 - Calculadora\")\n",
        "    print(\" \")\n",
        "\n",
        "    Escolha = input(\"Opção Desejada: \")\n",
        "    print(\" \")\n",
        "    if Escolha == \"1\":\n",
        "        Login2 = input(\"Digite seu Login: \")\n",
        "        senha2 = input(\"Digite sua Senha: \")\n",
        "        IDD = input(\"Digite seu ID: \")\n",
        "        print(\" \")\n",
        "        print(\"Parabéns, Login Cadastrado!\")\n",
        "\n",
        "\n",
        "    elif Escolha == \"2\":\n",
        "        LoginProf = input(\"Digite seu Login: \")\n",
        "        SenhaProf = input(\"Digite sua Senha: \")\n",
        "        IDP = input(\"Digite seu ID: \")\n",
        "\n",
        "\n",
        "\n",
        "    elif Escolha == \"3\":\n",
        "        LoginAluno = input(\"Login Aluno: \")\n",
        "        SenhaAluno = input(\"Senha: \")\n",
        "        IDA = input(\"Digite seu ID: \")\n",
        "\n",
        "    elif Escolha == \"4\":\n",
        "      print(\"Selecione a Operação desejada\")\n",
        "      print(\"A - ADIÇÃO \")\n",
        "      print(\"S - SUBTRAÇÃO \")\n",
        "      print(\"M - MULTIPLICAÇÃO\")\n",
        "      print(\"D - DIVISÃO \")\n",
        "\n",
        "      Opção = input(\"Digite a Letra relacionada à Operação desejada: \")\n",
        "\n",
        "      N1 = float(input(\"Digite o Primeiro Número: \"))\n",
        "      N2 = float(input(\"Digite o Segundo Número: \"))\n",
        "\n",
        "      if Opção == \"A\":\n",
        "        resultado = N1 + N2\n",
        "        print(\"Resultado: \", resultado)\n",
        "\n",
        "      elif Opção == \"S\":\n",
        "        resultado = N1 - N2\n",
        "        print(\"Resultado: \", resultado)\n",
        "\n",
        "      elif Opção == \"M\":\n",
        "        resultado = N1 * N2\n",
        "        print(\"Resultado: \", resultado)\n",
        "\n",
        "      elif Opção == \"D\":\n",
        "        if N2 == 0:\n",
        "          print(\"ERROR\")\n",
        "        else:\n",
        "          resultado = N1/N2\n",
        "          print(\"Resultado: \", resultado)\n",
        "      else:\n",
        "        print(\"Opção inválida...\")\n",
        "\n",
        "\n",
        "\n",
        "\n",
        "    else:\n",
        "      print(\" \")\n",
        "      print(\"Opção Inválida, tente novamente...\")\n",
        "\n",
        "else:\n",
        "    print(\"LOGIN OU SENHA INCORRETOS, TENTE NOVAMENTE...\")\n"
      ]
    }
  ]
}