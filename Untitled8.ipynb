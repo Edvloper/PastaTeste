{
  "nbformat": 4,
  "nbformat_minor": 0,
  "metadata": {
    "colab": {
      "provenance": [],
      "authorship_tag": "ABX9TyMsjnhIensq0Cs74NsVwdIO",
      "include_colab_link": true
    },
    "kernelspec": {
      "name": "python3",
      "display_name": "Python 3"
    },
    "language_info": {
      "name": "python"
    }
  },
  "cells": [
    {
      "cell_type": "markdown",
      "metadata": {
        "id": "view-in-github",
        "colab_type": "text"
      },
      "source": [
        "<a href=\"https://colab.research.google.com/github/Edvloper/PastaTeste/blob/main/Untitled8.ipynb\" target=\"_parent\"><img src=\"https://colab.research.google.com/assets/colab-badge.svg\" alt=\"Open In Colab\"/></a>"
      ]
    },
    {
      "cell_type": "code",
      "execution_count": null,
      "metadata": {
        "colab": {
          "base_uri": "https://localhost:8080/"
        },
        "id": "Z24OAWdtn_Pk",
        "outputId": "9a17df56-be25-402a-b6f3-93874311e652"
      },
      "outputs": [
        {
          "output_type": "stream",
          "name": "stdout",
          "text": [
            "Selecione a Operação desejada\n",
            "A - ADIÇÃO \n",
            "S - SUBTRAÇÃO \n",
            "M - MULTIPLICAÇÃO\n",
            "D - DIVISÃO \n"
          ]
        }
      ],
      "source": [
        "print(\"Selecione a Operação desejada\")\n",
        "print(\"A - ADIÇÃO \")\n",
        "print(\"S - SUBTRAÇÃO \")\n",
        "print(\"M - MULTIPLICAÇÃO\")\n",
        "print(\"D - DIVISÃO \")\n",
        "\n",
        "Opção = input(\"Digite a Letra relacionada à Operação desejada: \")\n",
        "\n",
        "N1 = float(input(\"Digite o Primeiro Número: \"))\n",
        "N2 = float(input(\"Digite o Segundo Número: \"))\n",
        "\n",
        "if Opção == \"A\":\n",
        "  resultado = N1 + N2\n",
        "  print(\"Resultado: \", resultado)\n",
        "\n",
        "elif Opção == \"S\":\n",
        "  resultado = N1 - N2\n",
        "  print(\"Resultado: \", resultado)\n",
        "\n",
        "elif Opção == \"M\":\n",
        "  resultado = N1 * N2\n",
        "  print(\"Resultado: \", resultado)\n",
        "\n",
        "elif Opção == \"D\":\n",
        "  if N2 == 0:\n",
        "   print(\"ERROR\")\n",
        "  else:\n",
        "    resultado = N1/N2\n",
        "    print(\"Resultado: \", resultado)\n",
        "else:\n",
        "  print(\"Opção inválida...\")"
      ]
    }
  ]
}