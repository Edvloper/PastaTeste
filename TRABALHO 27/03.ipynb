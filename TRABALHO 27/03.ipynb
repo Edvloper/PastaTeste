{
  "nbformat": 4,
  "nbformat_minor": 0,
  "metadata": {
    "colab": {
      "provenance": [],
      "authorship_tag": "ABX9TyN335yWQQ/8iNH6mxvY9eeR",
      "include_colab_link": true
    },
    "kernelspec": {
      "name": "python3",
      "display_name": "Python 3"
    },
    "language_info": {
      "name": "python"
    }
  },
  "cells": [
    {
      "cell_type": "markdown",
      "metadata": {
        "id": "view-in-github",
        "colab_type": "text"
      },
      "source": [
        "<a href=\"https://colab.research.google.com/github/Edvloper/PastaTeste/blob/main/TRABALHO%2027/03.ipynb\" target=\"_parent\"><img src=\"https://colab.research.google.com/assets/colab-badge.svg\" alt=\"Open In Colab\"/></a>"
      ]
    },
    {
      "cell_type": "code",
      "execution_count": null,
      "metadata": {
        "id": "RGaLutblYjg_"
      },
      "outputs": [],
      "source": [
        "print(\"INSTITUIÇÃO EDUCACIONAL ONLINE\")\n",
        "print(\" \")\n",
        "Login = input(\"Login: \")\n",
        "senha = input(\"Senha: \")\n",
        "if Login == \"EDGAR\" and senha == \"123\":\n",
        "    print(\"ACESSO LIBERADO\")\n",
        "    print(\" \")\n",
        "    print(\"Selecione Opção\")\n",
        "    print(\"1 - Cadastro Direto\")\n",
        "    print(\"2- Cadastro Professor\")\n",
        "    print(\"3- Cadastro Aluno\")\n",
        "    print(\"4 - Calculadora\")\n",
        "    print(\" \")\n",
        "\n",
        "    Escolha = input(\"Opção Desejada: \")\n",
        "    print(\" \")\n",
        "    if Escolha == \"1\":\n",
        "        Login2 = input(\"Digite seu Login: \")\n",
        "        senha2 = input(\"Digite sua Senha: \")\n",
        "        IDD = input(\"Digite seu ID: \")\n",
        "        print(\" \")\n",
        "        print(\"Parabéns, Login Cadastrado!\")\n",
        "\n",
        "\n",
        "    elif Escolha == \"2\":\n",
        "        LoginProf = input(\"Digite seu Login: \")\n",
        "        SenhaProf = input(\"Digite sua Senha: \")\n",
        "        IDP = input(\"Digite seu ID: \")\n",
        "\n",
        "\n",
        "\n",
        "    elif Escolha == \"3\":\n",
        "        LoginAluno = input(\"Login Aluno: \")\n",
        "        SenhaAluno = input(\"Senha: \")\n",
        "        IDA = input(\"Digite seu ID: \")\n",
        "\n",
        "    elif Escolha == \"4\":\n",
        "      print(\"Selecione a Operação desejada\")\n",
        "      print(\"A - ADIÇÃO \")\n",
        "      print(\"S - SUBTRAÇÃO \")\n",
        "      print(\"M - MULTIPLICAÇÃO\")\n",
        "      print(\"D - DIVISÃO \")\n",
        "\n",
        "      Opção = input(\"Digite a Letra relacionada à Operação desejada: \")\n",
        "\n",
        "      N1 = float(input(\"Digite o Primeiro Número: \"))\n",
        "      N2 = float(input(\"Digite o Segundo Número: \"))\n",
        "\n",
        "      if Opção == \"A\":\n",
        "        resultado = N1 + N2\n",
        "        print(\"Resultado: \", resultado)\n",
        "\n",
        "      elif Opção == \"S\":\n",
        "        resultado = N1 - N2\n",
        "        print(\"Resultado: \", resultado)\n",
        "\n",
        "      elif Opção == \"M\":\n",
        "        resultado = N1 * N2\n",
        "        print(\"Resultado: \", resultado)\n",
        "\n",
        "      elif Opção == \"D\":\n",
        "        if N2 == 0:\n",
        "          print(\"ERROR\")\n",
        "        else:\n",
        "          resultado = N1/N2\n",
        "          print(\"Resultado: \", resultado)\n",
        "      else:\n",
        "        print(\"Opção inválida...\")\n",
        "\n",
        "\n",
        "\n",
        "\n",
        "    else:\n",
        "      print(\" \")\n",
        "      print(\"Opção Inválida, tente novamente...\")\n",
        "\n",
        "else:\n",
        "    print(\"LOGIN OU SENHA INCORRETOS, TENTE NOVAMENTE...\")\n"
      ]
    },
    {
      "cell_type": "code",
      "source": [
        "lista = [1,2,3]\n",
        "lista.append(4)\n",
        "print(lista)"
      ],
      "metadata": {
        "colab": {
          "base_uri": "https://localhost:8080/"
        },
        "id": "tjoNvcsFJNda",
        "outputId": "9b2c34dc-b604-47dc-a7f8-42140eee7f6e"
      },
      "execution_count": 3,
      "outputs": [
        {
          "output_type": "stream",
          "name": "stdout",
          "text": [
            "[1, 2, 3, 4]\n"
          ]
        }
      ]
    },
    {
      "cell_type": "code",
      "source": [
        "frutas = ['MAÇÃ', \"BANANA\", \"JACA\"]\n",
        "frutas.append(\"MElANCIA\")\n",
        "print(frutas)\n",
        "\n"
      ],
      "metadata": {
        "colab": {
          "base_uri": "https://localhost:8080/"
        },
        "id": "-INcpQQMIjMj",
        "outputId": "35a624c5-b74b-4c48-daaf-5af3c7558ba1"
      },
      "execution_count": 5,
      "outputs": [
        {
          "output_type": "stream",
          "name": "stdout",
          "text": [
            "['MAÇÃ', 'BANANA', 'JACA', 'MElANCIA']\n"
          ]
        }
      ]
    },
    {
      "cell_type": "code",
      "source": [
        "numeros = []\n",
        "numero1 = int(input(\"DIGITE UM NÚMERO: \"))\n",
        "numero2 = int(input(\"DIGITE UM NÚMERO: \"))\n",
        "numero3 = int(input(\"DIGITE UM NÚMERO: \"))\n",
        "numeros.append(numero1)\n",
        "numeros.append(numero2)\n",
        "numeros.append(numero3)\n",
        "\n",
        "print(numeros)\n",
        "\n"
      ],
      "metadata": {
        "colab": {
          "base_uri": "https://localhost:8080/"
        },
        "id": "Peii3-owLkOq",
        "outputId": "c4171d9d-3473-4941-c783-60883bfe3374"
      },
      "execution_count": 11,
      "outputs": [
        {
          "output_type": "stream",
          "name": "stdout",
          "text": [
            "DIGITE UM NÚMERO: 45678765\n",
            "DIGITE UM NÚMERO: 5678765\n",
            "DIGITE UM NÚMERO: 5678987654\n",
            "[45678765, 5678765, 5678987654]\n"
          ]
        }
      ]
    }
  ]
}